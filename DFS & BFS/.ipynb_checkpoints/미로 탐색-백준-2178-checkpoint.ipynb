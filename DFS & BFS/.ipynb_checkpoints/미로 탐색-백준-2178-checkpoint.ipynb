{
 "cells": [
  {
   "cell_type": "markdown",
   "id": "2a3e93f6",
   "metadata": {},
   "source": [
    "https://www.acmicpc.net/problem/2178"
   ]
  },
  {
   "cell_type": "code",
   "execution_count": 13,
   "id": "207f8e78",
   "metadata": {
    "scrolled": true
   },
   "outputs": [
    {
     "name": "stdout",
     "output_type": "stream",
     "text": [
      "4 6\n",
      "101111\n",
      "101010\n",
      "101011\n",
      "111011\n"
     ]
    }
   ],
   "source": [
    "from collections import deque\n",
    "\n",
    "n,m = map(int, input().split())\n",
    "graph = []\n",
    "visited = []\n",
    "for i in range(n):\n",
    "    graph += [list(map(int,input()))]   \n",
    "dx = [1,-1,0,0]\n",
    "dy = [0,0,1,-1]"
   ]
  },
  {
   "cell_type": "code",
   "execution_count": 14,
   "id": "f412572d",
   "metadata": {},
   "outputs": [
    {
     "name": "stdout",
     "output_type": "stream",
     "text": [
      "15\n"
     ]
    }
   ],
   "source": [
    "def bfs(x,y):\n",
    "    q = deque()\n",
    "    q.append((x,y))\n",
    "    while q:\n",
    "        x,y = q.popleft()\n",
    "        for i in range(4):\n",
    "            nx = x + dx[i]\n",
    "            ny = y + dy[i]\n",
    "            if nx<0 or nx>= n or ny<0 or ny >= m:\n",
    "                continue\n",
    "            if graph[nx][ny] == 0:\n",
    "                continue\n",
    "            if graph[nx][ny] == 1:\n",
    "                graph[nx][ny] = graph[x][y] + 1\n",
    "                q.append((nx,ny))\n",
    "    return graph[n-1][m-1]\n",
    "print(bfs(0,0))\n",
    "        \n",
    "    "
   ]
  },
  {
   "cell_type": "code",
   "execution_count": null,
   "id": "54da180f",
   "metadata": {},
   "outputs": [],
   "source": []
  }
 ],
 "metadata": {
  "kernelspec": {
   "display_name": "Python 3 (ipykernel)",
   "language": "python",
   "name": "python3"
  },
  "language_info": {
   "codemirror_mode": {
    "name": "ipython",
    "version": 3
   },
   "file_extension": ".py",
   "mimetype": "text/x-python",
   "name": "python",
   "nbconvert_exporter": "python",
   "pygments_lexer": "ipython3",
   "version": "3.9.7"
  }
 },
 "nbformat": 4,
 "nbformat_minor": 5
}
