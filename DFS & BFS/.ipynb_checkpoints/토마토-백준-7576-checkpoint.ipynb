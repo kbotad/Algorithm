{
 "cells": [
  {
   "cell_type": "markdown",
   "id": "c0d513f2",
   "metadata": {},
   "source": [
    "## 문제 출처\n",
    "## https://www.acmicpc.net/problem/7576"
   ]
  },
  {
   "cell_type": "code",
   "execution_count": 68,
   "id": "ef1fce6d",
   "metadata": {},
   "outputs": [
    {
     "name": "stdout",
     "output_type": "stream",
     "text": [
      "2 2\n",
      "1 -1\n",
      "-1 1\n"
     ]
    }
   ],
   "source": [
    "from collections import deque\n",
    "m,n = map(int, input().split())\n",
    "graph = []\n",
    "for _ in range(n):\n",
    "    graph += [list(map(int,input().split()))]\n",
    "\n",
    "dx = [1,-1,0,0]\n",
    "dy = [0,0,1,-1]"
   ]
  },
  {
   "cell_type": "code",
   "execution_count": 69,
   "id": "21fba606",
   "metadata": {},
   "outputs": [],
   "source": [
    "def bfs(tomato_list,graph):\n",
    "    if sum([0 in row for row in graph]) == 0:\n",
    "        return 0\n",
    "    q = deque()\n",
    "    v = 0\n",
    "    for x,y in tomato_list:\n",
    "        q.append((x,y))\n",
    "    while q:\n",
    "        x,y = q.popleft()\n",
    "        for i in range(4):\n",
    "            nx = x + dx[i]\n",
    "            ny = y + dy[i]\n",
    "            if nx < 0 or nx >= n or ny < 0 or ny >= m:\n",
    "                continue\n",
    "            if graph[nx][ny] == -1:\n",
    "                continue\n",
    "            if graph[nx][ny] == 0:\n",
    "                graph[nx][ny] = graph[x][y] + 1\n",
    "                v = graph[nx][ny]\n",
    "                q.append((nx,ny))\n",
    "#             if sum([0 in row for row in graph]) == 0:\n",
    "#                 return graph[nx][ny]-1\n",
    "    for k in graph:\n",
    "        if 0 in k:\n",
    "            return -1\n",
    "    return v-1\n",
    "    \n",
    "    "
   ]
  },
  {
   "cell_type": "code",
   "execution_count": 70,
   "id": "a69486e5",
   "metadata": {},
   "outputs": [],
   "source": [
    "# tomato_list=[]\n",
    "# for i in range(n):\n",
    "#     for j in range(m):\n",
    "#         if graph[i][j] == 1:\n",
    "#             tomato_list.append((i,j))\n",
    "# print(tomato_list)\n",
    "# print(bfs(tomato_list,graph))"
   ]
  },
  {
   "cell_type": "markdown",
   "id": "5c587db4",
   "metadata": {},
   "source": [
    "### 시간초과가 나옴.\n",
    "### 첫 토마토의 index를 추출할 때의 문제인 듯."
   ]
  },
  {
   "cell_type": "code",
   "execution_count": 71,
   "id": "317333eb",
   "metadata": {},
   "outputs": [
    {
     "name": "stdout",
     "output_type": "stream",
     "text": [
      "0\n"
     ]
    }
   ],
   "source": [
    "tomato_list=[]\n",
    "x = [x for x in graph if 1 in x]\n",
    "for i in x:\n",
    "    tomato = (graph.index(i),i.index(1))\n",
    "    tomato_list.append(tomato)\n",
    "#print(sum(row.count(0) for row in graph))\n",
    "print(bfs(tomato_list,graph))"
   ]
  },
  {
   "cell_type": "markdown",
   "id": "45470d45",
   "metadata": {},
   "source": [
    "### count함수를 사용하면 안될 것 같다. \n",
    "##### 아니였다."
   ]
  },
  {
   "cell_type": "markdown",
   "id": "4a17781c",
   "metadata": {},
   "source": [
    "#### 창고의 상태를 확인하는 코드가 무겁지 않아야 할 것같음."
   ]
  },
  {
   "cell_type": "code",
   "execution_count": null,
   "id": "05144bf4",
   "metadata": {},
   "outputs": [],
   "source": []
  }
 ],
 "metadata": {
  "kernelspec": {
   "display_name": "Python 3 (ipykernel)",
   "language": "python",
   "name": "python3"
  },
  "language_info": {
   "codemirror_mode": {
    "name": "ipython",
    "version": 3
   },
   "file_extension": ".py",
   "mimetype": "text/x-python",
   "name": "python",
   "nbconvert_exporter": "python",
   "pygments_lexer": "ipython3",
   "version": "3.9.7"
  }
 },
 "nbformat": 4,
 "nbformat_minor": 5
}
