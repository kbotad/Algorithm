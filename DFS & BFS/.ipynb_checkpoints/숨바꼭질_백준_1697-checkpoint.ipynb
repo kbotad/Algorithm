{
 "cells": [
  {
   "cell_type": "markdown",
   "id": "b6d21cd7",
   "metadata": {},
   "source": [
    "https://www.acmicpc.net/problem/1697"
   ]
  },
  {
   "cell_type": "code",
   "execution_count": 27,
   "id": "0ca1c8c8",
   "metadata": {},
   "outputs": [
    {
     "name": "stdout",
     "output_type": "stream",
     "text": [
      "5 17\n",
      "4\n"
     ]
    }
   ],
   "source": [
    "from collections import deque\n",
    "n, k = map(int, input().split())\n",
    "t_list = [0]*(10**5+1)\n",
    "dx = [1,-1]\n",
    "def bfs():\n",
    "        q=deque()\n",
    "        q.append(n)\n",
    "        while q:\n",
    "                #print('q: ',q)\n",
    "                cur_x = q.popleft()\n",
    "                #print('cur_x: ',cur_x)\n",
    "                if cur_x ==k:\n",
    "                    return t_list[cur_x]\n",
    "                for nx in [cur_x+1,cur_x-1,cur_x*2]:\n",
    "                    if 0<=nx<=10**5 and not t_list[nx]:\n",
    "                        t_list[nx] = t_list[cur_x]+1\n",
    "                        q.append(nx)\n",
    "print(bfs())"
   ]
  },
  {
   "cell_type": "code",
   "execution_count": null,
   "id": "52784dee",
   "metadata": {},
   "outputs": [],
   "source": []
  },
  {
   "cell_type": "code",
   "execution_count": null,
   "id": "d46466de",
   "metadata": {},
   "outputs": [],
   "source": []
  }
 ],
 "metadata": {
  "kernelspec": {
   "display_name": "Python 3 (ipykernel)",
   "language": "python",
   "name": "python3"
  },
  "language_info": {
   "codemirror_mode": {
    "name": "ipython",
    "version": 3
   },
   "file_extension": ".py",
   "mimetype": "text/x-python",
   "name": "python",
   "nbconvert_exporter": "python",
   "pygments_lexer": "ipython3",
   "version": "3.9.7"
  },
  "toc": {
   "base_numbering": 1,
   "nav_menu": {},
   "number_sections": true,
   "sideBar": true,
   "skip_h1_title": false,
   "title_cell": "Table of Contents",
   "title_sidebar": "Contents",
   "toc_cell": false,
   "toc_position": {},
   "toc_section_display": true,
   "toc_window_display": false
  },
  "varInspector": {
   "cols": {
    "lenName": 16,
    "lenType": 16,
    "lenVar": 40
   },
   "kernels_config": {
    "python": {
     "delete_cmd_postfix": "",
     "delete_cmd_prefix": "del ",
     "library": "var_list.py",
     "varRefreshCmd": "print(var_dic_list())"
    },
    "r": {
     "delete_cmd_postfix": ") ",
     "delete_cmd_prefix": "rm(",
     "library": "var_list.r",
     "varRefreshCmd": "cat(var_dic_list()) "
    }
   },
   "types_to_exclude": [
    "module",
    "function",
    "builtin_function_or_method",
    "instance",
    "_Feature"
   ],
   "window_display": false
  }
 },
 "nbformat": 4,
 "nbformat_minor": 5
}
