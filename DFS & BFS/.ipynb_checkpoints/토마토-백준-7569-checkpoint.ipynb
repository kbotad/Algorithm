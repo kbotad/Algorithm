{
 "cells": [
  {
   "cell_type": "markdown",
   "id": "b951d151",
   "metadata": {},
   "source": [
    "# https://www.acmicpc.net/problem/7569"
   ]
  },
  {
   "cell_type": "code",
   "execution_count": 8,
   "id": "99c478eb",
   "metadata": {},
   "outputs": [
    {
     "name": "stdout",
     "output_type": "stream",
     "text": [
      "4 3 2\n",
      "1 1 1 1\n",
      "1 1 1 1\n",
      "1 1 1 1\n",
      "1 1 1 1\n",
      "-1 -1 -1 -1\n",
      "1 1 1 1\n"
     ]
    }
   ],
   "source": [
    "from collections import deque\n",
    "# import sys\n",
    "# input = sys.stdin.readline\n",
    "\n",
    "m,n,h = map(int, input().split())\n",
    "\n",
    "graph = [[]for _ in range(h)]\n",
    "\n",
    "for i in range(h):\n",
    "    for j in range(n):\n",
    "        graph[i] += [list(map(int,input().split()))]\n",
    "\n",
    "#print(graph)\n",
    "dx = [1,-1,0,0,0,0]\n",
    "dy = [0,0,1,-1,0,0]\n",
    "dz = [0,0,0,0,1,-1]\n"
   ]
  },
  {
   "cell_type": "code",
   "execution_count": 9,
   "id": "7ace8a7a",
   "metadata": {},
   "outputs": [],
   "source": [
    "def bfs(tomato_list):\n",
    "    \n",
    "    q = deque()\n",
    "    v = 0\n",
    "    for z,x,y in tomato_list:\n",
    "        q.append((z,x,y))\n",
    "    while q:\n",
    "        z,x,y = q.popleft()\n",
    "        for i in range(6):\n",
    "            nx = x + dx[i]\n",
    "            ny = y + dy[i]\n",
    "            nz = z + dz[i]\n",
    "            if nx < 0 or nx >= n or ny < 0 or ny >= m or nz <0 or nz>= h:\n",
    "                continue\n",
    "            if graph[nz][nx][ny] == -1:\n",
    "                continue\n",
    "            if graph[nz][nx][ny] == 0:\n",
    "                graph[nz][nx][ny] = graph[z][x][y] + 1\n",
    "                v = graph[nz][nx][ny]\n",
    "                q.append((nz,nx,ny))\n",
    "#             if sum([0 in row for row in graph]) == 0:\n",
    "#                 return graph[nx][ny]-1\n",
    "    for k in graph:\n",
    "        for j in k:\n",
    "            if 0 in j:\n",
    "                return -1\n",
    "    return v-1\n",
    "    "
   ]
  },
  {
   "cell_type": "code",
   "execution_count": 10,
   "id": "23d6e663",
   "metadata": {},
   "outputs": [
    {
     "name": "stdout",
     "output_type": "stream",
     "text": [
      "0\n"
     ]
    }
   ],
   "source": [
    "tomato_list=[]\n",
    "y_tomato = 0\n",
    "x = [x for x in graph if 1 in x]\n",
    "for i in range(n):\n",
    "    for j in range(m):\n",
    "        for k in range(h):\n",
    "            if graph[k][i][j]==1:\n",
    "                tomato_list.append((k,i,j))\n",
    "            elif graph[k][i][j]==0:\n",
    "                y_tomato += 1\n",
    "#print(sum(row.count(0) for row in graph))\n",
    "if y_tomato == 0:\n",
    "    print(0)\n",
    "else:\n",
    "    print(bfs(tomato_list))"
   ]
  },
  {
   "cell_type": "markdown",
   "id": "2ad4a4d3",
   "metadata": {},
   "source": [
    "## 정답!!"
   ]
  }
 ],
 "metadata": {
  "kernelspec": {
   "display_name": "Python 3 (ipykernel)",
   "language": "python",
   "name": "python3"
  },
  "language_info": {
   "codemirror_mode": {
    "name": "ipython",
    "version": 3
   },
   "file_extension": ".py",
   "mimetype": "text/x-python",
   "name": "python",
   "nbconvert_exporter": "python",
   "pygments_lexer": "ipython3",
   "version": "3.9.10"
  }
 },
 "nbformat": 4,
 "nbformat_minor": 5
}
