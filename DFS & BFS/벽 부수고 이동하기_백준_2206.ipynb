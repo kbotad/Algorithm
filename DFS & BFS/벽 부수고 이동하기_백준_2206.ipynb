{
 "cells": [
  {
   "cell_type": "markdown",
   "id": "4006208b",
   "metadata": {},
   "source": [
    "https://www.acmicpc.net/problem/2206"
   ]
  },
  {
   "cell_type": "code",
   "execution_count": 28,
   "id": "690bdebc",
   "metadata": {},
   "outputs": [
    {
     "name": "stdout",
     "output_type": "stream",
     "text": [
      "6 4\n",
      "0100\n",
      "1110\n",
      "1000\n",
      "0000\n",
      "0111\n",
      "0000\n"
     ]
    }
   ],
   "source": [
    "from collections import deque\n",
    "n,m = map(int,input().split())\n",
    "graph = []\n",
    "visited  = [[[0] * 2 for _ in range(m)] for _ in range(n)]\n",
    "\n",
    "for _ in range(n):\n",
    "    graph+=[list(map(int,input()))]\n",
    "    \n",
    "dx = [1,-1,0,0]\n",
    "dy = [0,0,1,-1]"
   ]
  },
  {
   "cell_type": "code",
   "execution_count": 29,
   "id": "3fb7c373",
   "metadata": {},
   "outputs": [
    {
     "name": "stdout",
     "output_type": "stream",
     "text": [
      "15\n"
     ]
    }
   ],
   "source": [
    "def bfs(x,y,visited,graph,iscrash):\n",
    "        q=deque()\n",
    "        q.append((x,y,iscrash))\n",
    "        visited[x][y][iscrash] = 1\n",
    "        while q:\n",
    "                cur_x ,cur_y, iscrash =  q.popleft()\n",
    "                if cur_x+1 ==n and cur_y+1==m:\n",
    "                        return visited[cur_x][cur_y][iscrash]\n",
    "                for i in range(4):\n",
    "                        nx = cur_x+dx[i]\n",
    "                        ny = cur_y+dy[i]\n",
    "                        if nx<0 or nx>=n or ny<0 or ny>=m:\n",
    "                                continue\n",
    "                        if visited[nx][ny][iscrash]==0 and graph[nx][ny]==0:\n",
    "                                q.append((nx,ny,iscrash))\n",
    "                                visited[nx][ny][iscrash] = visited[cur_x][cur_y][iscrash]+1\n",
    "                        if iscrash==0 and graph[nx][ny]==1:\n",
    "                                q.append((nx,ny,iscrash+1))\n",
    "                                visited[nx][ny][iscrash+1] = visited[cur_x][cur_y][iscrash] + 1\n",
    "        return -1\n",
    "\n",
    "print(bfs(0,0,visited,graph,0))\n",
    "                \n",
    "                \n",
    "    \n",
    "    \n",
    "    "
   ]
  },
  {
   "cell_type": "code",
   "execution_count": 21,
   "id": "7f269853",
   "metadata": {},
   "outputs": [
    {
     "data": {
      "text/plain": [
       "[[[1, 0], [0, 2], [0, 0], [0, 0]],\n",
       " [[0, 2], [0, 0], [0, 0], [0, 0]],\n",
       " [[0, 0], [0, 0], [0, 0], [0, 0]],\n",
       " [[0, 0], [0, 0], [0, 0], [0, 0]],\n",
       " [[0, 0], [0, 0], [0, 0], [0, 0]],\n",
       " [[0, 0], [0, 0], [0, 0], [0, 0]]]"
      ]
     },
     "execution_count": 21,
     "metadata": {},
     "output_type": "execute_result"
    }
   ],
   "source": [
    "visited"
   ]
  },
  {
   "cell_type": "code",
   "execution_count": null,
   "id": "908e8ddf",
   "metadata": {},
   "outputs": [],
   "source": []
  },
  {
   "cell_type": "code",
   "execution_count": null,
   "id": "d2ceee3e",
   "metadata": {},
   "outputs": [],
   "source": []
  }
 ],
 "metadata": {
  "kernelspec": {
   "display_name": "Python 3 (ipykernel)",
   "language": "python",
   "name": "python3"
  },
  "language_info": {
   "codemirror_mode": {
    "name": "ipython",
    "version": 3
   },
   "file_extension": ".py",
   "mimetype": "text/x-python",
   "name": "python",
   "nbconvert_exporter": "python",
   "pygments_lexer": "ipython3",
   "version": "3.9.7"
  },
  "toc": {
   "base_numbering": 1,
   "nav_menu": {},
   "number_sections": true,
   "sideBar": true,
   "skip_h1_title": false,
   "title_cell": "Table of Contents",
   "title_sidebar": "Contents",
   "toc_cell": false,
   "toc_position": {},
   "toc_section_display": true,
   "toc_window_display": false
  },
  "varInspector": {
   "cols": {
    "lenName": 16,
    "lenType": 16,
    "lenVar": 40
   },
   "kernels_config": {
    "python": {
     "delete_cmd_postfix": "",
     "delete_cmd_prefix": "del ",
     "library": "var_list.py",
     "varRefreshCmd": "print(var_dic_list())"
    },
    "r": {
     "delete_cmd_postfix": ") ",
     "delete_cmd_prefix": "rm(",
     "library": "var_list.r",
     "varRefreshCmd": "cat(var_dic_list()) "
    }
   },
   "position": {
    "height": "336.844px",
    "left": "1549px",
    "right": "20px",
    "top": "120px",
    "width": "350px"
   },
   "types_to_exclude": [
    "module",
    "function",
    "builtin_function_or_method",
    "instance",
    "_Feature"
   ],
   "window_display": false
  }
 },
 "nbformat": 4,
 "nbformat_minor": 5
}
